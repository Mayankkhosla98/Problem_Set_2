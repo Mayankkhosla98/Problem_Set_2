{
 "cells": [
  {
   "cell_type": "markdown",
   "id": "450427f9",
   "metadata": {},
   "source": [
    "# Question 1"
   ]
  },
  {
   "cell_type": "markdown",
   "id": "0639452a",
   "metadata": {},
   "source": [
    "#### What value is displayed when the last expression (a) is evaluated? Explain your Banswer by indicating what happens in every executed statement."
   ]
  },
  {
   "cell_type": "code",
   "execution_count": 18,
   "id": "5b920092",
   "metadata": {},
   "outputs": [],
   "source": [
    "a = 0             # This gives the variable a the value 0.\n",
    "def b():          # This defines the b() function.\n",
    " global a\n",
    " a = c(a)\n",
    "def c(a):          # defining a fuction c() with returning the value of Parameter a\n",
    " return a + 2     # this statement returns the value of a after adding 2 in the a value. \n"
   ]
  },
  {
   "cell_type": "code",
   "execution_count": 19,
   "id": "b5821dbc",
   "metadata": {},
   "outputs": [],
   "source": [
    "b()    "
   ]
  },
  {
   "cell_type": "markdown",
   "id": "8b5dc5f3",
   "metadata": {},
   "source": [
    "The first time calling the function b(), the code inside of it is run. With a set to 0, the c function is invoked and yields 2. The global variable then give the returning value 2."
   ]
  },
  {
   "cell_type": "code",
   "execution_count": 23,
   "id": "f160ec23",
   "metadata": {},
   "outputs": [],
   "source": [
    "b()"
   ]
  },
  {
   "cell_type": "markdown",
   "id": "efd17153",
   "metadata": {},
   "source": [
    "When b() is called a second time, the function's code is run once more. The revised value of a, which is 2, is sent to the c function, which is run and returns 4. The global variable then give the returning value 4."
   ]
  },
  {
   "cell_type": "code",
   "execution_count": 21,
   "id": "9f124754",
   "metadata": {},
   "outputs": [],
   "source": [
    "b()"
   ]
  },
  {
   "cell_type": "markdown",
   "id": "f251aa2a",
   "metadata": {},
   "source": [
    "The identical thing happens after the third call to b(). Calling the c function with the updated value of a, which is 4, results in a return value of 6. The global variable then give the returned value, which is 6."
   ]
  },
  {
   "cell_type": "code",
   "execution_count": 22,
   "id": "5446f6e1",
   "metadata": {},
   "outputs": [
    {
     "data": {
      "text/plain": [
       "6"
      ]
     },
     "execution_count": 22,
     "metadata": {},
     "output_type": "execute_result"
    }
   ],
   "source": [
    "a"
   ]
  },
  {
   "cell_type": "markdown",
   "id": "cb3572af",
   "metadata": {},
   "source": [
    "The global variable a now has a value of 6, and when evaluate the expression a, it returns that value 6."
   ]
  },
  {
   "cell_type": "markdown",
   "id": "396dc0e3",
   "metadata": {},
   "source": [
    "# Question 2"
   ]
  },
  {
   "cell_type": "markdown",
   "id": "a8f7a496",
   "metadata": {},
   "source": [
    "#### Function fileLength(), given to you, takes the name of a file as input and returns the length of the file:"
   ]
  },
  {
   "cell_type": "code",
   "execution_count": 144,
   "id": "d962c74c",
   "metadata": {},
   "outputs": [],
   "source": [
    "def fileLength(filename):         # defining a function with name fileLength()\n",
    "    try:\n",
    "        infile = open(filename)         # Defining a varible to open the file \n",
    "        content = infile.read()         # reading the file \n",
    "        infile.close()\n",
    "        print (len(content))            # printing the length of the content of the file.\n",
    "    except FileNotFoundError:\n",
    "        print(f\"File {filename} not found.\")   # if file not found then print the value."
   ]
  },
  {
   "cell_type": "code",
   "execution_count": 145,
   "id": "71e9c38a",
   "metadata": {},
   "outputs": [
    {
     "name": "stdout",
     "output_type": "stream",
     "text": [
      "123\n"
     ]
    }
   ],
   "source": [
    "fileLength('Filelength.txt')     # calling the fuction with the Filelength.txt file "
   ]
  },
  {
   "cell_type": "code",
   "execution_count": 146,
   "id": "36e205aa",
   "metadata": {},
   "outputs": [
    {
     "name": "stdout",
     "output_type": "stream",
     "text": [
      "File idterm.py not found.\n"
     ]
    }
   ],
   "source": [
    "fileLength('idterm.py')     # calling the fuction with the idterm.py file "
   ]
  },
  {
   "cell_type": "markdown",
   "id": "b2e43978",
   "metadata": {},
   "source": [
    "# Question 3"
   ]
  },
  {
   "cell_type": "markdown",
   "id": "fe1007ee",
   "metadata": {},
   "source": [
    "#### Write a class named Marsupial that can be used and How write a class named Kangaroo as a subclass of Marsupial that inherits all the attributes of Marsupial.\n"
   ]
  },
  {
   "cell_type": "code",
   "execution_count": 127,
   "id": "ada8ac7d",
   "metadata": {},
   "outputs": [],
   "source": [
    "class Marsupial:     \n",
    "    def __init__(a):\n",
    "        a.pouch = []    # The pouch attribute of the Marsupial class is initialised in the constructor (__init__) as an empty list.\n",
    "    \n",
    "    def put_in_pouch(a, item):\n",
    "        a.pouch.append(item)   # The pouch list is expanded using the put_in_pouch method.\n",
    "    \n",
    "    def pouch_contents(a):\n",
    "        return a.pouch       # The pouch list's contents are returned via the pouch_contents method."
   ]
  },
  {
   "cell_type": "code",
   "execution_count": 134,
   "id": "d7622b47",
   "metadata": {},
   "outputs": [],
   "source": [
    "class Kangaroo(Marsupial):  #As a subclass of the Marsupial class, the kangaroo class inherits all of its properties and operations. It adds the following features to increase functionality.\n",
    "    def __init__(a, b, c):  \n",
    "        super().__init__()\n",
    "        a.b = b\n",
    "        a.c = c    # Additional parameters b and c are required by the Kangaroo __init__ method to represent the kangaroo's coordinates.\n",
    "    \n",
    "    def jump(a, db, dc):  #The Kangaroo __init__ method requires extra parameters x and y to provide the coordinates of the kangaroo.\n",
    "        a.b += db\n",
    "        a.c += dc\n",
    "    \n",
    "    def __str__(a):  # The Kangaroo object's coordinates are provided in a string through the overloaded __str__ function.\n",
    "        return f\"I am a Kangaroo located at coordinates ({a.b},{a.c})\""
   ]
  },
  {
   "cell_type": "code",
   "execution_count": 129,
   "id": "9a9ab242",
   "metadata": {},
   "outputs": [
    {
     "name": "stdout",
     "output_type": "stream",
     "text": [
      "['doll', 'firetruck', 'kitten']\n"
     ]
    }
   ],
   "source": [
    "# Testing the classes\n",
    "m = Marsupial()                # creating different instances for Marsupial class  \n",
    "m.put_in_pouch('doll')\n",
    "m.put_in_pouch('firetruck')\n",
    "m.put_in_pouch('kitten')\n",
    "print(m.pouch_contents())          # Printing value by calling the instance\n"
   ]
  },
  {
   "cell_type": "code",
   "execution_count": 130,
   "id": "5f445e57",
   "metadata": {},
   "outputs": [
    {
     "name": "stdout",
     "output_type": "stream",
     "text": [
      "I am a Kangaroo located at coordinates (0,0)\n"
     ]
    }
   ],
   "source": [
    "k = Kangaroo(0, 0)       # creating instance for Kangaroo class \n",
    "print(k)\n"
   ]
  },
  {
   "cell_type": "code",
   "execution_count": 131,
   "id": "d35098e2",
   "metadata": {},
   "outputs": [
    {
     "name": "stdout",
     "output_type": "stream",
     "text": [
      "['doll', 'firetruck', 'kitten']\n"
     ]
    }
   ],
   "source": [
    "k.put_in_pouch('doll')             # creating different instances for Kangaroo class \n",
    "k.put_in_pouch('firetruck')\n",
    "k.put_in_pouch('kitten')\n",
    "print(k.pouch_contents())      # Printing value by calling the instance "
   ]
  },
  {
   "cell_type": "code",
   "execution_count": 132,
   "id": "5d58bf9f",
   "metadata": {},
   "outputs": [
    {
     "name": "stdout",
     "output_type": "stream",
     "text": [
      "I am a Kangaroo located at coordinates (3,0)\n"
     ]
    }
   ],
   "source": [
    "k.jump(1, 0)              # creating different instances for Kangaroo class \n",
    "k.jump(1, 0)\n",
    "k.jump(1, 0)\n",
    "print(k)        # printing value of k"
   ]
  },
  {
   "cell_type": "markdown",
   "id": "a23d6ed7",
   "metadata": {},
   "source": [
    "# Question 4"
   ]
  },
  {
   "cell_type": "markdown",
   "id": "f4d3fd65",
   "metadata": {},
   "source": [
    "#### Write function collatz() that takes a positive integer x as input and prints the Collatz sequence starting at x. A Collatz sequence is obtained by repeatedly applying this rule to the previous number x"
   ]
  },
  {
   "cell_type": "code",
   "execution_count": 133,
   "id": "09c27198",
   "metadata": {},
   "outputs": [],
   "source": [
    "def collatz(x):        # The input for the collatz() function is a integer x.\n",
    "    print(x)           # It first prints the current number x.\n",
    "    if x == 1:         #The function returns and the recursion stops if the base case value of x is 1, which is where it starts.\n",
    "        return\n",
    "    elif x % 2 == 0:    #The function repeatedly runs collatz(x // 2) with the subsequent number in the series if x is even (i.e., x% 2 == 0).\n",
    "        collatz(x // 2)\n",
    "    else:\n",
    "        collatz(3 * x + 1) #If x is an odd number, the function repeatedly runs collatz(3 * x + 1) with the subsequent value."
   ]
  },
  {
   "cell_type": "code",
   "execution_count": 136,
   "id": "25db936c",
   "metadata": {},
   "outputs": [
    {
     "name": "stdout",
     "output_type": "stream",
     "text": [
      "9\n",
      "28\n",
      "14\n",
      "7\n",
      "22\n",
      "11\n",
      "34\n",
      "17\n",
      "52\n",
      "26\n",
      "13\n",
      "40\n",
      "20\n",
      "10\n",
      "5\n",
      "16\n",
      "8\n",
      "4\n",
      "2\n",
      "1\n"
     ]
    }
   ],
   "source": [
    "collatz(9)  # calling the defined function with value of x= 9."
   ]
  },
  {
   "cell_type": "code",
   "execution_count": 68,
   "id": "69e2afb8",
   "metadata": {},
   "outputs": [
    {
     "name": "stdout",
     "output_type": "stream",
     "text": [
      "10\n",
      "5\n",
      "16\n",
      "8\n",
      "4\n",
      "2\n",
      "1\n"
     ]
    }
   ],
   "source": [
    "collatz(10)   # calling the defined function with value of x= 10."
   ]
  },
  {
   "cell_type": "markdown",
   "id": "294215e3",
   "metadata": {},
   "source": [
    "# Question 5"
   ]
  },
  {
   "cell_type": "markdown",
   "id": "d1b5f76e",
   "metadata": {},
   "source": [
    "#### Write a recursive method binary() that takes a non-negative integer n and prints the binary representation of integer n."
   ]
  },
  {
   "cell_type": "code",
   "execution_count": 137,
   "id": "12d05d7d",
   "metadata": {},
   "outputs": [],
   "source": [
    "def bin(n):      # defining a function name with bin()\n",
    "    if n == 0:      # initializing the value of n as 0\n",
    "        return     \n",
    "    binary(n // 2)     # checking if its divivble by 2 to get the remainder \n",
    "    print(n % 2, end='')  #Printing the remainder "
   ]
  },
  {
   "cell_type": "code",
   "execution_count": 138,
   "id": "1822261c",
   "metadata": {},
   "outputs": [
    {
     "name": "stdout",
     "output_type": "stream",
     "text": [
      "11100"
     ]
    }
   ],
   "source": [
    "bin(28)    # passing value 28 in Bin() function        "
   ]
  },
  {
   "cell_type": "code",
   "execution_count": 139,
   "id": "b4e4042e",
   "metadata": {},
   "outputs": [
    {
     "name": "stdout",
     "output_type": "stream",
     "text": [
      "101"
     ]
    }
   ],
   "source": [
    "bin(5)    # passing value 5 in Bin() function "
   ]
  },
  {
   "cell_type": "code",
   "execution_count": 140,
   "id": "357377e7",
   "metadata": {},
   "outputs": [
    {
     "name": "stdout",
     "output_type": "stream",
     "text": [
      "1111"
     ]
    }
   ],
   "source": [
    "bin(15)   # passing value 15 in Bin() function "
   ]
  },
  {
   "cell_type": "code",
   "execution_count": 141,
   "id": "08a8d6b7",
   "metadata": {},
   "outputs": [
    {
     "name": "stdout",
     "output_type": "stream",
     "text": [
      "101011"
     ]
    }
   ],
   "source": [
    "bin(43)  # passing value 43 in Bin() function "
   ]
  },
  {
   "cell_type": "markdown",
   "id": "7c504552",
   "metadata": {},
   "source": [
    "# Question 6"
   ]
  },
  {
   "cell_type": "markdown",
   "id": "e3551c9f",
   "metadata": {},
   "source": [
    "#### Implement a class named HeadingParser that can be used to parse an HTML document, and retrieve and print all the headings in the document. You should implement your class as a subclass of HTMLParser, defined in Standard Library module html.parser. When fed a string containing HTML code, your class should print the headings, one per line and in the order in which they appear in the document.Each heading should be indented asfollows: an h1 heading should have indentation 0, and h2 heading should have indentation 1, etc. Test your implementation using w3c.html."
   ]
  },
  {
   "cell_type": "code",
   "execution_count": 159,
   "id": "4990f851",
   "metadata": {},
   "outputs": [],
   "source": [
    "from html.parser import HTMLParser"
   ]
  },
  {
   "cell_type": "code",
   "execution_count": 165,
   "id": "5db82763",
   "metadata": {},
   "outputs": [],
   "source": [
    "class HeadingParser(HTMLParser):   # defining the class With name HeadingParser\n",
    "    def __init__(self):        # difining a function with name _init_\n",
    "        super().__init__()\n",
    "        self.headings = []  \n",
    "        self.indentation = 0  \n",
    "\n",
    "    def handle_starttag(self, tag, attrs):   # When a start tag is found in an HTML document, the handle_starttag() method is invoked. The indentation level and the flag inside_heading are both set to True if the tag (such as h1, h2, etc.) is a heading.\n",
    "        if tag.startswith('h'): \n",
    "            try:\n",
    "                self.indentation = int(tag[1:]) - 1 \n",
    "            except ValueError:\n",
    "                self.indentation = -1  \n",
    "\n",
    "    def handle_data(self, data):  # When text (data) is found in between HTML tags, the handle_data() method is invoked. The data (heading) is printed with the proper indentation if inside_heading is set to True.\n",
    "        if self.indentation >= 0:  \n",
    "            self.headings.append('  ' * self.indentation + data.strip())  \n",
    "\n",
    "    def print_headings(self):   \n",
    "        for heading in self.headings:\n",
    "            print(heading)"
   ]
  },
  {
   "cell_type": "code",
   "execution_count": 166,
   "id": "f4f6df41",
   "metadata": {},
   "outputs": [
    {
     "name": "stdout",
     "output_type": "stream",
     "text": [
      "\n",
      "W3C Mission\n",
      "\n",
      "  Principles\n",
      "  \n",
      "  \n"
     ]
    }
   ],
   "source": [
    "file = open(\"w3c.txt\")    # When text data is found in between HTML tags, the handle_data() method is invoked. The data heading is printed with the proper indentation if inside_heading is set to True.\n",
    "content = file.read()\n",
    "file.close()  \n",
    "\n",
    "hp = HeadingParser()\n",
    "hp.feed(content)\n",
    "hp.print_headings()"
   ]
  },
  {
   "cell_type": "markdown",
   "id": "7cfea3ea",
   "metadata": {},
   "source": [
    "# Question 7"
   ]
  },
  {
   "cell_type": "markdown",
   "id": "c990dcb1",
   "metadata": {},
   "source": [
    "#### Implement recursive function webdir() that takes as input: a URL (as a string) and non-negative integers depth and indent. Your function should visit every web page reachable from the starting URL web page in depth clicks or less, and print each web page's URL. As shown below, indentation, specified by indent, should be used to indicate the depth of a URL."
   ]
  },
  {
   "cell_type": "code",
   "execution_count": 169,
   "id": "eef40aed",
   "metadata": {},
   "outputs": [],
   "source": [
    "from urllib.request import urlopen\n",
    "from urllib.parse import urljoin\n",
    "from html.parser import HTMLParser"
   ]
  },
  {
   "cell_type": "code",
   "execution_count": 172,
   "id": "5ed55b05",
   "metadata": {},
   "outputs": [],
   "source": [
    "class LinkParser(HTMLParser):    # defining the class LinkParser() \n",
    "    def __init__(a):          \n",
    "        super().__init__()\n",
    "        a.links = []\n",
    "    \n",
    "    def handle_starttag(a, tag, attrs):   # defining the fucntion with different variables \n",
    "        if tag == 'a':\n",
    "            for attr in attrs:\n",
    "                if attr[0] == 'href':\n",
    "                    a.links.append(attr[1])\n",
    "\n",
    "def webdir(url, depth, indent):     # defining the fucntion with different variables\n",
    "    if depth < 0:\n",
    "        return              # returning the value if its less then 0\n",
    "\n",
    "    response = urlopen(url)\n",
    "    html = response.read().decode('utf-8')\n",
    "    \n",
    "    parser = LinkParser()\n",
    "    parser.feed(html)\n",
    "    links = parser.links\n",
    "    \n",
    "    print(' ' * indent + url)       # printing the links included in the url \n",
    "    \n",
    "    for link in links:\n",
    "        absolute_url = urljoin(url, link)\n",
    "        webdir(absolute_url, depth - 1, indent + 4)"
   ]
  },
  {
   "cell_type": "code",
   "execution_count": 173,
   "id": "1456d292",
   "metadata": {},
   "outputs": [
    {
     "name": "stdout",
     "output_type": "stream",
     "text": [
      "https://reed.cs.depaul.edu/lperkovic/csc242/homeworks/Homework4.html\n",
      "    https://reed.cs.depaul.edu/lperkovic/csc242/homeworks/homework4.py\n",
      "    https://reed.cs.depaul.edu/lperkovic/csc242/homeworks/increment.py\n",
      "    https://reed.cs.depaul.edu/lperkovic/csc242/homeworks/bmi.py\n",
      "    https://d2l.depaul.edu/\n",
      "    https://reed.cs.depaul.edu/lperkovic/csc242/homeworks/increment.py\n",
      "    https://reed.cs.depaul.edu/lperkovic/csc242/homeworks/bmi.py\n"
     ]
    }
   ],
   "source": [
    "webdir('https://reed.cs.depaul.edu/lperkovic/csc242/homeworks/Homework4.html', 2, 0)  # running the defined function by passing the variables in the function."
   ]
  },
  {
   "cell_type": "markdown",
   "id": "7b43c77e",
   "metadata": {},
   "source": [
    "# Question 8"
   ]
  },
  {
   "cell_type": "markdown",
   "id": "680538be",
   "metadata": {},
   "source": [
    "#### Write SQL queries on the below database table that return:\n",
    "##### a) All the temperature data.\n",
    "##### b) All the cities, but without repetition.\n",
    "##### c) All the records for India.\n",
    "##### d) All the Fall records.\n",
    "##### e) The city, country, and season for which the average rainfall is between 200 and 400 millimeters.\n",
    "##### f) The city and country for which the average Fall temperature is above 20 degrees, in increasing temperature order.\n",
    "##### g) The total annual rainfall for Cairo.\n",
    "##### h) The total rainfall for each season.\n"
   ]
  },
  {
   "cell_type": "markdown",
   "id": "ad13d416",
   "metadata": {},
   "source": [
    "a). <br>\n",
    "SELECT \"Temperature (C)\" FROM WeatherData;"
   ]
  },
  {
   "cell_type": "markdown",
   "id": "89c5549d",
   "metadata": {},
   "source": [
    "b).   <br>\n",
    "SELECT DISTINCT \"City\" FROM WeatherData;"
   ]
  },
  {
   "cell_type": "markdown",
   "id": "6aaa8b54",
   "metadata": {},
   "source": [
    "c)   <br>\n",
    "SELECT * FROM WeatherData WHERE \"Country\" = 'India';"
   ]
  },
  {
   "cell_type": "markdown",
   "id": "f51d01a8",
   "metadata": {},
   "source": [
    "d) <br>\n",
    "SELECT * FROM WeatherData WHERE \"Season\" = 'Fall';"
   ]
  },
  {
   "cell_type": "markdown",
   "id": "ee82b8e5",
   "metadata": {},
   "source": [
    "e)  <br>\n",
    "SELECT \"City\", \"Country\", \"Season\" FROM WeatherData <br>\n",
    "GROUP BY \"City\", \"Country\", \"Season\"               <br>\n",
    "HAVING AVG(\"Rainfall (mm)\") BETWEEN 200 AND 400;"
   ]
  },
  {
   "cell_type": "markdown",
   "id": "41cda0d5",
   "metadata": {},
   "source": [
    "f)     <br>\n",
    "SELECT \"City\", \"Country\" FROM WeatherData   <br>\n",
    "WHERE \"Season\" = 'Fall'     <br>\n",
    "GROUP BY \"City\", \"Country\"   <br>\n",
    "HAVING AVG(\"Temperature (C)\") > 20    <br>\n",
    "ORDER BY AVG(\"Temperature (C)\") ASC;   <br>"
   ]
  },
  {
   "cell_type": "markdown",
   "id": "4cd0be68",
   "metadata": {},
   "source": [
    "g)    <br>\n",
    "SELECT SUM(rainfall) AS Total_Rainfall FROM weather_table WHERE city = 'Cairo';\n"
   ]
  },
  {
   "cell_type": "markdown",
   "id": "48585a91",
   "metadata": {},
   "source": [
    "h)     <br>\n",
    "SELECT season, SUM(rainfall) AS Total_Rainfall FROM weather_table GROUP BY season;"
   ]
  },
  {
   "cell_type": "markdown",
   "id": "7bcf3679",
   "metadata": {},
   "source": [
    "# Question 9"
   ]
  },
  {
   "cell_type": "markdown",
   "id": "a3f431fb",
   "metadata": {},
   "source": [
    "#### Suppose list words is defined as follows: words = ['The', 'quick', 'brown', 'fox', 'jumps', 'over', 'the', 'lazy', 'dog']\n",
    "#### Write list comprehension expressions that use list words and generate "
   ]
  },
  {
   "cell_type": "code",
   "execution_count": 175,
   "id": "3c8114de",
   "metadata": {},
   "outputs": [],
   "source": [
    "words = ['The', 'quick', 'brown', 'fox', 'jumps', 'over', 'the', 'lazy', 'dog']  # defining the List  "
   ]
  },
  {
   "cell_type": "code",
   "execution_count": 176,
   "id": "ff5a1651",
   "metadata": {},
   "outputs": [
    {
     "name": "stdout",
     "output_type": "stream",
     "text": [
      "['THE', 'QUICK', 'BROWN', 'FOX', 'JUMPS', 'OVER', 'THE', 'LAZY', 'DOG']\n"
     ]
    }
   ],
   "source": [
    "up_words = [word.upper() for word in words]\n",
    "print(up_words)          # printing the value of List in upper chase."
   ]
  },
  {
   "cell_type": "code",
   "execution_count": 177,
   "id": "861439e5",
   "metadata": {},
   "outputs": [
    {
     "name": "stdout",
     "output_type": "stream",
     "text": [
      "['the', 'quick', 'brown', 'fox', 'jumps', 'over', 'the', 'lazy', 'dog']\n"
     ]
    }
   ],
   "source": [
    "low_words = [word.lower() for word in words]\n",
    "print(low_words)        # prinitng the value of array in the lower chase"
   ]
  },
  {
   "cell_type": "code",
   "execution_count": 178,
   "id": "8b03016f",
   "metadata": {},
   "outputs": [
    {
     "name": "stdout",
     "output_type": "stream",
     "text": [
      "[3, 5, 5, 3, 5, 4, 3, 4, 3]\n"
     ]
    }
   ],
   "source": [
    "word_lengths = [len(word) for word in words]\n",
    "print(word_lengths)    # printing the length of the each word"
   ]
  },
  {
   "cell_type": "code",
   "execution_count": 179,
   "id": "ce4bd30a",
   "metadata": {},
   "outputs": [
    {
     "name": "stdout",
     "output_type": "stream",
     "text": [
      "[['THE', 'the', 3], ['QUICK', 'quick', 5], ['BROWN', 'brown', 5], ['FOX', 'fox', 3], ['JUMPS', 'jumps', 5], ['OVER', 'over', 4], ['THE', 'the', 3], ['LAZY', 'lazy', 4], ['DOG', 'dog', 3]]\n"
     ]
    }
   ],
   "source": [
    "w_info = [[word.upper(), word.lower(), len(word)] for word in words]\n",
    "print(w_info)      # Printing the upperchase , lowerchase and length of each word in the list"
   ]
  },
  {
   "cell_type": "code",
   "execution_count": 180,
   "id": "48996202",
   "metadata": {},
   "outputs": [
    {
     "name": "stdout",
     "output_type": "stream",
     "text": [
      "['quick', 'brown', 'jumps', 'over', 'lazy']\n"
     ]
    }
   ],
   "source": [
    "long_words = [word for word in words if len(word) >= 4]\n",
    "print(long_words)     # Printing the long words having length grather then or equal to 4. "
   ]
  }
 ],
 "metadata": {
  "kernelspec": {
   "display_name": "Python 3 (ipykernel)",
   "language": "python",
   "name": "python3"
  },
  "language_info": {
   "codemirror_mode": {
    "name": "ipython",
    "version": 3
   },
   "file_extension": ".py",
   "mimetype": "text/x-python",
   "name": "python",
   "nbconvert_exporter": "python",
   "pygments_lexer": "ipython3",
   "version": "3.10.9"
  }
 },
 "nbformat": 4,
 "nbformat_minor": 5
}
